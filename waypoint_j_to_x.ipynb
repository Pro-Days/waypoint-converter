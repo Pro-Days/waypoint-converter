{
  "nbformat": 4,
  "nbformat_minor": 0,
  "metadata": {
    "colab": {
      "provenance": []
    },
    "kernelspec": {
      "name": "python3",
      "display_name": "Python 3"
    },
    "language_info": {
      "name": "python"
    }
  },
  "cells": [
    {
      "cell_type": "code",
      "execution_count": null,
      "metadata": {
        "id": "T-ENUHRAlfD2"
      },
      "outputs": [],
      "source": [
        "import random\n",
        "from google.colab import files\n",
        "import os\n",
        "import shutil\n",
        "import json\n",
        "\n",
        "\n",
        "if os.path.isfile(\"waypoints.zip\"):\n",
        "  os.remove(\"waypoints.zip\")\n",
        "if os.path.isfile(\"/content/mw$default_1.txt\"):\n",
        "  os.remove(\"/content/mw$default_1.txt\")\n",
        "if os.path.isdir(\"/content/waypoints\"):\n",
        "  shutil.rmtree(\"/content/waypoints/\")\n",
        "\n",
        "\n",
        "f = files.upload() # 압축파일 이름은 \"waypoints.zip\"\n",
        "\n",
        "os.makedirs(\"/content/waypoints\")\n",
        "!unzip waypoints.zip -d ./waypoints\n",
        "\n",
        "textlist = [\"#\\n\",\n",
        "            \"#waypoint:name:initials:x:y:z:color:disabled:type:set:rotate_on_tp:tp_yaw:visibility_type\\n\", \"#\\n\"]\n",
        "\n",
        "if os.path.isdir(\"/content/waypoints/waypoints\"):\n",
        "  dir = \"/content/waypoints/waypoints/\"\n",
        "else:\n",
        "  dir = \"/content/waypoints/\"\n",
        "  \n",
        "file_list = os.listdir(dir)\n",
        "\n",
        "for i in file_list:\n",
        "  with open(dir + i, \"r\") as f:\n",
        "    json_object = json.load(f)\n",
        "\n",
        "  name = json_object[\"name\"]\n",
        "  x = json_object[\"x\"]\n",
        "  y = json_object[\"y\"]\n",
        "  z = json_object[\"z\"]\n",
        "\n",
        "  textlist.append(f\"waypoint:{name}:{name[:2]}:{x}:{y}:{z}:0:false:0:gui.xaero_default:false:0:1\\n\")\n",
        "\n",
        "with open(f\"/content/mw$default_1.txt\", \"w\") as f:\n",
        "  f.writelines(textlist)\n",
        "\n",
        "files.download(\"/content/mw$default_1.txt\")"
      ]
    }
  ]
}