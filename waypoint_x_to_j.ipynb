{
  "nbformat": 4,
  "nbformat_minor": 0,
  "metadata": {
    "colab": {
      "provenance": []
    },
    "kernelspec": {
      "name": "python3",
      "display_name": "Python 3"
    },
    "language_info": {
      "name": "python"
    }
  },
  "cells": [
    {
      "cell_type": "code",
      "execution_count": null,
      "metadata": {
        "id": "T-ENUHRAlfD2"
      },
      "outputs": [],
      "source": [
        "import random\n",
        "from google.colab import files\n",
        "import os\n",
        "import shutil\n",
        "\n",
        "\n",
        "if os.path.isfile(\"mw$default_1.txt\"):\n",
        "  os.remove(\"mw$default_1.txt\")\n",
        "if os.path.isfile(\"/content/waypoints.zip\"):\n",
        "  os.remove(\"/content/waypoints.zip\")\n",
        "if os.path.isdir(\"/content/waypoints\"):\n",
        "  shutil.rmtree(\"/content/waypoints/\")\n",
        "\n",
        "\n",
        "f = files.upload() # 파일 이름은 \"mw$default_1.txt\"\n",
        "\n",
        "with open(\"mw$default_1.txt\") as f:\n",
        "  waypoint = f.readlines()\n",
        "waypoint = waypoint[4:]\n",
        "\n",
        "os.makedirs(\"/content/waypoints\")\n",
        "\n",
        "for i in range(len(waypoint)):\n",
        "    waypoint[i] = waypoint[i].split(\":\")\n",
        "    waypoint[i] = waypoint[i][2:6]\n",
        "\n",
        "    \n",
        "    with open(f\"waypoints/{waypoint[i][0]}_{waypoint[i][1]}-{waypoint[i][2]}-{waypoint[i][3]}.json\", \"w\") as f:\n",
        "        f.write(f\"\"\"{{\n",
        "  \"id\": \"{waypoint[i][0]}_{waypoint[i][1]}-{waypoint[i][2]}-{waypoint[i][3]}\",\n",
        "  \"name\": \"{waypoint[i][0]}\",\n",
        "  \"icon\": \"journeymap:ui/img/waypoint-icon.png\",\n",
        "  \"colorizedIcon\": \"fake:color--10853910-waypoint-icon.png\",\n",
        "  \"x\": {waypoint[i][1]},\n",
        "  \"y\": {waypoint[i][2]},\n",
        "  \"z\": {waypoint[i][3]},\n",
        "  \"r\": {random.randint(0, 255)},\n",
        "  \"g\": {random.randint(0, 255)},\n",
        "  \"b\": {random.randint(0, 255)},\n",
        "  \"enable\": true,\n",
        "  \"type\": \"Normal\",\n",
        "  \"origin\": \"journeymap\",\n",
        "  \"dimensions\": [\n",
        "    \"minecraft:overworld\"\n",
        "  ],\n",
        "  \"persistent\": true,\n",
        "  \"showDeviation\": false,\n",
        "  \"iconColor\": -1,\n",
        "  \"customIconColor\": false\n",
        "}}\"\"\")\n",
        "\n",
        "\n",
        "!zip -r /content/waypoints.zip /content/waypoints\n",
        "\n",
        "files.download(\"/content/waypoints.zip\")"
      ]
    }
  ]
}